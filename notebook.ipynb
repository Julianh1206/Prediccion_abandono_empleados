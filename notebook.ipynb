{
 "cells": [
  {
   "cell_type": "code",
   "execution_count": null,
   "id": "865c57eb",
   "metadata": {},
   "outputs": [],
   "source": [
    "import seaborn as sns\n",
    "import pandas as pd\n",
    "from pyspark.sql import SparkSession\n",
    "\n",
    "# Cargar datos \n",
    "tips = sns.load_dataset('tips')\n",
    "\n",
    "# Iniciando sesión de Spark\n",
    "spark = SparkSession.builder.appName(\"Data Cleansing with PySpark and SQL\").getOrCreate()\n",
    "\n",
    "# De pandas a PySpark DataFrame\n",
    "df = spark.createDataFrame(tips)\n",
    "df.createOrReplaceTempView(\"tabla_tips\")  # Crear vista temporal en PySpark SQL\n",
    "df.show(5)"
   ]
  },
  {
   "cell_type": "code",
   "execution_count": null,
   "id": "aad4f7d6",
   "metadata": {},
   "outputs": [],
   "source": [
    "## Eliminar duplicados\n",
    "result = spark.sql(\"SELECT DISTINCT * FROM tabla_tips\")\n",
    "result.show()"
   ]
  },
  {
   "cell_type": "code",
   "execution_count": null,
   "id": "31eed5db",
   "metadata": {},
   "outputs": [],
   "source": [
    "## Con PySpark usamos dropDuplicates() para eliminar duplicados.\n",
    "\n",
    "df_no_duplicates = df.dropDuplicates()\n",
    "df_no_duplicates.show(5)"
   ]
  },
  {
   "cell_type": "code",
   "execution_count": null,
   "id": "d196caa6",
   "metadata": {},
   "outputs": [],
   "source": [
    "## Contar valores nulos en cada columna\n",
    "from pyspark.sql.functions import count, when, isnull\n",
    "df.select([count(when(isnull(c), c)).alias(c) for c in df.columns]).show()"
   ]
  },
  {
   "cell_type": "code",
   "execution_count": null,
   "id": "c7f0fda6",
   "metadata": {},
   "outputs": [],
   "source": [
    "## Eliminar filas con valores nulos en las columnas 'total_bill' y 'tip'\n",
    "from pyspark.sql.functions import col\n",
    "result = spark.sql(\"SELECT * FROM tabla_tips WHERE total_bill IS NOT NULL AND tip IS NOT NULL\")\n",
    "result.show()"
   ]
  },
  {
   "cell_type": "code",
   "execution_count": null,
   "id": "ec9a886a",
   "metadata": {},
   "outputs": [],
   "source": [
    "## Reemplazar valores nulos en la columna 'tip' con 0\n",
    "from pyspark.sql.functions import coalesce\n",
    "result = spark.sql(\"SELECT COALESCE(tip, 0) AS tip, total_bill, sex, smoker, day, time, size FROM tabla_tips\")\n",
    "result.show()"
   ]
  },
  {
   "cell_type": "code",
   "execution_count": null,
   "id": "09577959",
   "metadata": {},
   "outputs": [],
   "source": [
    "## Reemplazar valores nulos en la columna 'tip' con 0 usando PySpark\n",
    "df_filled = df.fillna({'tip': 0})\n",
    "df_filled.show(5)"
   ]
  },
  {
   "cell_type": "code",
   "execution_count": null,
   "id": "70f4c48c",
   "metadata": {},
   "outputs": [],
   "source": [
    "## Filtrar datos: seleccionar filas donde 'size' es mayor que 2 y 'total_bill' es mayor que 20\n",
    "result = spark.sql(\"SELECT * FROM tabla_tips WHERE size > 2 AND total_bill > 20\")\n",
    "result.show()"
   ]
  },
  {
   "cell_type": "code",
   "execution_count": null,
   "id": "45efc528",
   "metadata": {},
   "outputs": [],
   "source": [
    "## Filtrar registros en PySpark sin usar SQL.\n",
    "df_filtered = df.filter((df['size'] > 2) & (df['total_bill'] > 20))\n",
    "df_filtered.show(5)"
   ]
  },
  {
   "cell_type": "code",
   "execution_count": null,
   "id": "3ea3c9f1",
   "metadata": {},
   "outputs": [],
   "source": [
    "## Calcular el porcentaje de propina respecto a la cuenta total\n",
    "result = spark.sql(\"SELECT *, (tip / total_bill) * 100 AS tip_percentage FROM tabla_tips\")\n",
    "result.show()"
   ]
  },
  {
   "cell_type": "code",
   "execution_count": null,
   "id": "4c673d97",
   "metadata": {},
   "outputs": [],
   "source": [
    "## Calcular el porcentaje de propina respecto a la cuenta total usando PySpark\n",
    "from pyspark.sql.functions import col\n",
    "\n",
    "df = df.withColumn(\"tip_percentage\", (df[\"tip\"] / df[\"total_bill\"]) * 100)\n",
    "df.show(5)"
   ]
  },
  {
   "cell_type": "code",
   "execution_count": null,
   "id": "a9a3cfe2",
   "metadata": {},
   "outputs": [],
   "source": [
    "## Agrupar por día y calcular la propina promedio\n",
    "result = spark.sql(\"SELECT day, AVG(tip) AS avg_tip FROM tabla_tips GROUP BY day\")\n",
    "result.show()"
   ]
  },
  {
   "cell_type": "code",
   "execution_count": null,
   "id": "3a58f87b",
   "metadata": {},
   "outputs": [],
   "source": [
    "## Agrupar por día y calcular la propina promedio usando PySpark\n",
    "df_agg = df.groupBy(\"day\").agg({\"tip\": \"avg\"})\n",
    "df_agg.show()"
   ]
  },
  {
   "cell_type": "code",
   "execution_count": null,
   "id": "168cbcf2",
   "metadata": {},
   "outputs": [],
   "source": [
    "import matplotlib.pyplot as plt\n",
    "\n",
    "# Cargar el dataset 'tips' de Seaborn\n",
    "tips = sns.load_dataset('tips')\n",
    "\n",
    "# Crear una figura con varios subgráficos\n",
    "fig, axes = plt.subplots(2, 2, figsize=(14, 10))\n",
    "\n",
    "# Gráfico 1: Distribución continua (total_bill)\n",
    "sns.histplot(tips['total_bill'], kde=True, ax=axes[0, 0], color='blue')\n",
    "axes[0, 0].set_title('Distribución Continua: Total Bill')\n",
    "\n",
    "# Gráfico 2: Distribución discreta (size)\n",
    "sns.histplot(tips['size'], kde=False, ax=axes[0, 1], color='green', discrete=True)\n",
    "axes[0, 1].set_title('Distribución Discreta: Size')\n",
    "\n",
    "# Gráfico 3: Boxplot para detectar outliers (tip)\n",
    "sns.boxplot(x=tips['tip'], ax=axes[1, 0], color='purple')\n",
    "axes[1, 0].set_title('Boxplot: Tip')\n",
    "\n",
    "# Gráfico 4: Gráfico de violín para distribución por día\n",
    "sns.violinplot(x=\"day\", y=\"total_bill\", data=tips, ax=axes[1, 1], palette=\"muted\")\n",
    "axes[1, 1].set_title('Gráfico de Violín: Total Bill por Día')\n",
    "\n",
    "# Ajustar el diseño para que no se solapen los gráficos\n",
    "plt.tight_layout()\n",
    "plt.show()\n"
   ]
  },
  {
   "cell_type": "code",
   "execution_count": null,
   "id": "fe9923b8",
   "metadata": {},
   "outputs": [],
   "source": []
  },
  {
   "cell_type": "code",
   "execution_count": null,
   "id": "722b5a77",
   "metadata": {},
   "outputs": [],
   "source": []
  },
  {
   "cell_type": "code",
   "execution_count": null,
   "id": "5b14fe74",
   "metadata": {},
   "outputs": [],
   "source": []
  }
 ],
 "metadata": {
  "kernelspec": {
   "display_name": ".venv",
   "language": "python",
   "name": "python3"
  },
  "language_info": {
   "name": "python",
   "version": "3.9.12"
  }
 },
 "nbformat": 4,
 "nbformat_minor": 5
}
