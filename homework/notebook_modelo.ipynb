{
 "cells": [
  {
   "cell_type": "code",
   "execution_count": 1,
   "metadata": {},
   "outputs": [],
   "source": [
    "import pandas as pd \n",
    "import numpy as np\n",
    "import matplotlib.pyplot as plt\n",
    "import seaborn as sns\n",
    "from sklearn.linear_model import LogisticRegression\n",
    "from sklearn.tree import DecisionTreeClassifier\n",
    "from sklearn.ensemble import RandomForestClassifier\n",
    "from sklearn.svm import SVC\n",
    "from sklearn.neural_network import MLPClassifier\n",
    "from sklearn.metrics import accuracy_score, recall_score, f1_score, classification_report, roc_auc_score\n",
    "from sklearn.model_selection import train_test_split\n",
    "from sklearn.preprocessing import StandardScaler\n",
    "import joblib  # Para guardar y cargar modelos"
   ]
  },
  {
   "cell_type": "code",
   "execution_count": 2,
   "metadata": {},
   "outputs": [
    {
     "data": {
      "text/plain": [
       "<bound method NDFrame.describe of         id  edad abandono             viajes            departamento  \\\n",
       "0        1    41      Yes      Travel_Rarely                   Sales   \n",
       "1        2    49       No  Travel_Frequently  Research & Development   \n",
       "2        4    37      Yes      Travel_Rarely  Research & Development   \n",
       "3        5    33       No  Travel_Frequently  Research & Development   \n",
       "4        7    27       No      Travel_Rarely  Research & Development   \n",
       "...    ...   ...      ...                ...                     ...   \n",
       "1265  2061    36       No  Travel_Frequently  Research & Development   \n",
       "1266  2062    39       No      Travel_Rarely  Research & Development   \n",
       "1267  2064    27       No      Travel_Rarely               Financial   \n",
       "1268  2065    49       No  Travel_Frequently                   Sales   \n",
       "1269  2068    34       No      Travel_Rarely  Research & Development   \n",
       "\n",
       "      distancia_casa      educacion                    carrera  \\\n",
       "0                  1  Universitaria              Life Sciences   \n",
       "1                  8  Universitaria          Software Engineer   \n",
       "2                  2     Secundaria                      Other   \n",
       "3                  3  Universitaria          Software Engineer   \n",
       "4                  2  Universitaria           Systems Engineer   \n",
       "...              ...            ...                        ...   \n",
       "1265              23         Master           Systems Engineer   \n",
       "1266               6  Universitaria           Systems Engineer   \n",
       "1267               4         Master  Ingeniería Administrativa   \n",
       "1268               2  Universitaria                    Medical   \n",
       "1269               8  Universitaria           Systems Engineer   \n",
       "\n",
       "     satisfaccion_entorno implicacion  ...  horas_extra  \\\n",
       "0                   Media        Alta  ...          Yes   \n",
       "1                    Alta       Media  ...           No   \n",
       "2                Muy_Alta       Media  ...          Yes   \n",
       "3                Muy_Alta        Alta  ...          Yes   \n",
       "4                    Baja        Alta  ...           No   \n",
       "...                   ...         ...  ...          ...   \n",
       "1265                 Alta    Muy_Alta  ...           No   \n",
       "1266             Muy_Alta       Media  ...           No   \n",
       "1267                Media    Muy_Alta  ...          Yes   \n",
       "1268             Muy_Alta       Media  ...           No   \n",
       "1269                Media    Muy_Alta  ...           No   \n",
       "\n",
       "     incremento_salario_porc evaluacion satisfaccion_companeros  \\\n",
       "0                         11       Alta                    Baja   \n",
       "1                         23   Muy_Alta                Muy_Alta   \n",
       "2                         15       Alta                   Media   \n",
       "3                         11       Alta                    Alta   \n",
       "4                         12       Alta                Muy_Alta   \n",
       "...                      ...        ...                     ...   \n",
       "1265                      17       Alta                    Alta   \n",
       "1266                      15       Alta                    Baja   \n",
       "1267                      20   Muy_Alta                   Media   \n",
       "1268                      14       Alta                Muy_Alta   \n",
       "1269                      12       Alta                    Baja   \n",
       "\n",
       "      nivel_acciones  anos_experiencia num_formaciones_ult_ano  anos_compania  \\\n",
       "0                  0                 8                       0              6   \n",
       "1                  1                10                       3             10   \n",
       "2                  0                 7                       3              0   \n",
       "3                  0                 8                       3              8   \n",
       "4                  1                 6                       3              2   \n",
       "...              ...               ...                     ...            ...   \n",
       "1265               1                17                       3              5   \n",
       "1266               1                 9                       5              7   \n",
       "1267               1                 6                       0              6   \n",
       "1268               0                17                       3              9   \n",
       "1269               0                 6                       3              4   \n",
       "\n",
       "     anos_desde_ult_promocion anos_con_manager_actual  \n",
       "0                           0                       5  \n",
       "1                           1                       7  \n",
       "2                           0                       0  \n",
       "3                           3                       0  \n",
       "4                           2                       2  \n",
       "...                       ...                     ...  \n",
       "1265                        0                       3  \n",
       "1266                        1                       7  \n",
       "1267                        0                       3  \n",
       "1268                        0                       8  \n",
       "1269                        1                       2  \n",
       "\n",
       "[1270 rows x 26 columns]>"
      ]
     },
     "execution_count": 2,
     "metadata": {},
     "output_type": "execute_result"
    }
   ],
   "source": [
    "# Cargar los datos limpios\n",
    "data = pd.read_csv('../files/Datos_empleados_historico_limpio.csv')\n",
    "data.describe"
   ]
  },
  {
   "cell_type": "code",
   "execution_count": 3,
   "metadata": {},
   "outputs": [],
   "source": [
    "# Transformación de la variable 'abandono' de Yes/No a 1/0\n",
    "data['abandono'] = data['abandono'].map({'Yes': 1, 'No': 0})\n",
    "data = data.drop(columns=['id'])\n"
   ]
  },
  {
   "cell_type": "code",
   "execution_count": 4,
   "metadata": {},
   "outputs": [],
   "source": [
    "# Transformación de variables categóricas en variables dummies\n",
    "categorical_vars = data.select_dtypes(include=['object']).columns\n",
    "data = pd.get_dummies(data, columns=categorical_vars, drop_first=True)"
   ]
  },
  {
   "cell_type": "code",
   "execution_count": 5,
   "metadata": {},
   "outputs": [
    {
     "data": {
      "text/plain": [
       "<bound method NDFrame.head of       edad  abandono  distancia_casa  nivel_laboral  salario_mes  \\\n",
       "0       41         1               1              2       5993.0   \n",
       "1       49         0               8              2       5130.0   \n",
       "2       37         1               2              1       2090.0   \n",
       "3       33         0               3              1       2909.0   \n",
       "4       27         0               2              1       3468.0   \n",
       "...    ...       ...             ...            ...          ...   \n",
       "1265    36         0              23              2       2571.0   \n",
       "1266    39         0               6              3       9991.0   \n",
       "1267    27         0               4              2       6142.0   \n",
       "1268    49         0               2              2       5390.0   \n",
       "1269    34         0               8              2       4404.0   \n",
       "\n",
       "      num_empresas_anteriores  incremento_salario_porc  nivel_acciones  \\\n",
       "0                           8                       11               0   \n",
       "1                           1                       23               1   \n",
       "2                           6                       15               0   \n",
       "3                           1                       11               0   \n",
       "4                           9                       12               1   \n",
       "...                       ...                      ...             ...   \n",
       "1265                        4                       17               1   \n",
       "1266                        4                       15               1   \n",
       "1267                        1                       20               1   \n",
       "1268                        2                       14               0   \n",
       "1269                        2                       12               0   \n",
       "\n",
       "      anos_experiencia  num_formaciones_ult_ano  ...  \\\n",
       "0                    8                        0  ...   \n",
       "1                   10                        3  ...   \n",
       "2                    7                        3  ...   \n",
       "3                    8                        3  ...   \n",
       "4                    6                        3  ...   \n",
       "...                ...                      ...  ...   \n",
       "1265                17                        3  ...   \n",
       "1266                 9                        5  ...   \n",
       "1267                 6                        0  ...   \n",
       "1268                17                        3  ...   \n",
       "1269                 6                        3  ...   \n",
       "\n",
       "      satisfaccion_trabajo_Media  satisfaccion_trabajo_Muy_Alta  \\\n",
       "0                          False                          False   \n",
       "1                           True                          False   \n",
       "2                           True                          False   \n",
       "3                          False                          False   \n",
       "4                          False                          False   \n",
       "...                          ...                            ...   \n",
       "1265                       False                           True   \n",
       "1266                        True                          False   \n",
       "1267                       False                           True   \n",
       "1268                        True                          False   \n",
       "1269                       False                           True   \n",
       "\n",
       "      satisfaccion_trabajo_No aplica  estado_civil_Married  \\\n",
       "0                              False                 False   \n",
       "1                              False                  True   \n",
       "2                              False                 False   \n",
       "3                              False                  True   \n",
       "4                              False                  True   \n",
       "...                              ...                   ...   \n",
       "1265                           False                  True   \n",
       "1266                           False                  True   \n",
       "1267                           False                  True   \n",
       "1268                           False                  True   \n",
       "1269                           False                  True   \n",
       "\n",
       "      estado_civil_Single  horas_extra_Yes  evaluacion_Muy_Alta  \\\n",
       "0                    True             True                False   \n",
       "1                   False            False                 True   \n",
       "2                    True             True                False   \n",
       "3                   False             True                False   \n",
       "4                   False            False                False   \n",
       "...                   ...              ...                  ...   \n",
       "1265                False            False                False   \n",
       "1266                False            False                False   \n",
       "1267                False             True                 True   \n",
       "1268                False            False                False   \n",
       "1269                False            False                False   \n",
       "\n",
       "      satisfaccion_companeros_Baja  satisfaccion_companeros_Media  \\\n",
       "0                             True                          False   \n",
       "1                            False                          False   \n",
       "2                            False                           True   \n",
       "3                            False                          False   \n",
       "4                            False                          False   \n",
       "...                            ...                            ...   \n",
       "1265                         False                          False   \n",
       "1266                          True                          False   \n",
       "1267                         False                           True   \n",
       "1268                         False                          False   \n",
       "1269                          True                          False   \n",
       "\n",
       "      satisfaccion_companeros_Muy_Alta  \n",
       "0                                False  \n",
       "1                                 True  \n",
       "2                                False  \n",
       "3                                False  \n",
       "4                                 True  \n",
       "...                                ...  \n",
       "1265                             False  \n",
       "1266                             False  \n",
       "1267                             False  \n",
       "1268                              True  \n",
       "1269                             False  \n",
       "\n",
       "[1270 rows x 66 columns]>"
      ]
     },
     "execution_count": 5,
     "metadata": {},
     "output_type": "execute_result"
    }
   ],
   "source": [
    "data.head"
   ]
  },
  {
   "cell_type": "code",
   "execution_count": 6,
   "metadata": {},
   "outputs": [],
   "source": [
    "# División de los datos en entrenamiento y prueba\n",
    "X = data.drop('abandono', axis=1)\n",
    "y = data['abandono']\n",
    "\n",
    "X_train, X_test, y_train, y_test = train_test_split(X, y, test_size=0.2, random_state=42)\n",
    "\n",
    "# Verificar si hay valores NaN en y_train\n",
    "if np.any(np.isnan(y_train)):\n",
    "    # Eliminar filas con NaN en y_train\n",
    "    mask = ~np.isnan(y_train)\n",
    "    X_train = X_train[mask]\n",
    "    y_train = y_train[mask]"
   ]
  },
  {
   "cell_type": "code",
   "execution_count": 7,
   "metadata": {},
   "outputs": [],
   "source": [
    "if X_train.shape[0] == 0:\n",
    "    print(\"X_train está vacío después de la limpieza de datos.\")"
   ]
  },
  {
   "cell_type": "code",
   "execution_count": 8,
   "metadata": {},
   "outputs": [],
   "source": [
    "# Escalado de características\n",
    "scaler = StandardScaler()\n",
    "X_train = scaler.fit_transform(X_train)\n",
    "X_test = scaler.transform(X_test)"
   ]
  },
  {
   "cell_type": "code",
   "execution_count": 9,
   "metadata": {},
   "outputs": [],
   "source": [
    "# Definición de modelos\n",
    "models = {\n",
    "    'Regresión Logística': LogisticRegression(max_iter=1000, random_state=42),\n",
    "    'Árbol de Decisión': DecisionTreeClassifier(random_state=42),\n",
    "    'Random Forest': RandomForestClassifier(random_state=42),\n",
    "    'SVM': SVC(probability=True, random_state=42),\n",
    "    'Red Neuronal': MLPClassifier(max_iter=1000, random_state=42)\n",
    "}"
   ]
  },
  {
   "cell_type": "code",
   "execution_count": 10,
   "metadata": {},
   "outputs": [
    {
     "name": "stdout",
     "output_type": "stream",
     "text": [
      "\n",
      "Regresión Logística - Reporte de Clasificación\n",
      "              precision    recall  f1-score   support\n",
      "\n",
      "           0       0.90      0.98      0.94       221\n",
      "           1       0.71      0.30      0.43        33\n",
      "\n",
      "    accuracy                           0.89       254\n",
      "   macro avg       0.81      0.64      0.68       254\n",
      "weighted avg       0.88      0.89      0.87       254\n",
      "\n",
      "\n",
      "Árbol de Decisión - Reporte de Clasificación\n",
      "              precision    recall  f1-score   support\n",
      "\n",
      "           0       0.92      0.90      0.91       221\n",
      "           1       0.42      0.45      0.43        33\n",
      "\n",
      "    accuracy                           0.85       254\n",
      "   macro avg       0.67      0.68      0.67       254\n",
      "weighted avg       0.85      0.85      0.85       254\n",
      "\n",
      "\n",
      "Random Forest - Reporte de Clasificación\n",
      "              precision    recall  f1-score   support\n",
      "\n",
      "           0       0.89      1.00      0.94       221\n",
      "           1       0.86      0.18      0.30        33\n",
      "\n",
      "    accuracy                           0.89       254\n",
      "   macro avg       0.87      0.59      0.62       254\n",
      "weighted avg       0.89      0.89      0.86       254\n",
      "\n",
      "\n",
      "SVM - Reporte de Clasificación\n",
      "              precision    recall  f1-score   support\n",
      "\n",
      "           0       0.90      1.00      0.95       221\n",
      "           1       1.00      0.27      0.43        33\n",
      "\n",
      "    accuracy                           0.91       254\n",
      "   macro avg       0.95      0.64      0.69       254\n",
      "weighted avg       0.91      0.91      0.88       254\n",
      "\n",
      "\n",
      "Red Neuronal - Reporte de Clasificación\n",
      "              precision    recall  f1-score   support\n",
      "\n",
      "           0       0.91      0.96      0.94       221\n",
      "           1       0.60      0.36      0.45        33\n",
      "\n",
      "    accuracy                           0.89       254\n",
      "   macro avg       0.76      0.66      0.69       254\n",
      "weighted avg       0.87      0.89      0.87       254\n",
      "\n"
     ]
    }
   ],
   "source": [
    "# Entrenamiento y evaluación de modelos\n",
    "results = {}\n",
    "for name, model in models.items():\n",
    "    model.fit(X_train, y_train)\n",
    "    y_pred_proba = model.predict_proba(X_test)[:, 1]  # Probabilidad de la clase positiva (abandono)\n",
    "\n",
    "    auc = roc_auc_score(y_test, y_pred_proba)\n",
    "\n",
    "    y_pred_binary = (y_pred_proba >= 0.6).astype(int)\n",
    "    \n",
    "    accuracy = accuracy_score(y_test, y_pred_binary)\n",
    "    recall = recall_score(y_test, y_pred_binary)\n",
    "    f1 = f1_score(y_test, y_pred_binary)\n",
    "    \n",
    "    results[name] = {'AUC': auc, 'Accuracy': accuracy, 'Recall': recall, 'F1-score': f1}\n",
    "    \n",
    "    print(f\"\\n{name} - Reporte de Clasificación\")\n",
    "    print(classification_report(y_test, y_pred_binary))"
   ]
  },
  {
   "cell_type": "code",
   "execution_count": 11,
   "metadata": {},
   "outputs": [],
   "source": [
    "# Resultados comparativos\n",
    "results_df = pd.DataFrame(results).T"
   ]
  },
  {
   "cell_type": "code",
   "execution_count": 12,
   "metadata": {},
   "outputs": [
    {
     "data": {
      "image/png": "[encoded data removed]",
      "text/plain": [
       "<Figure size 1200x600 with 1 Axes>"
      ]
     },
     "metadata": {},
     "output_type": "display_data"
    }
   ],
   "source": [
    "# Visualización de resultados\n",
    "results_df[['AUC', 'Accuracy', 'Recall', 'F1-score']].plot(kind='bar', figsize=(12, 6))\n",
    "plt.title('Comparación de Modelos de Machine Learning')\n",
    "plt.ylabel('Puntuación')\n",
    "plt.xticks(rotation=45)\n",
    "plt.show()"
   ]
  },
  {
   "cell_type": "code",
   "execution_count": 13,
   "metadata": {},
   "outputs": [
    {
     "data": {
      "image/png": "[encoded data removed]",
      "text/plain": [
       "<Figure size 640x480 with 1 Axes>"
      ]
     },
     "metadata": {},
     "output_type": "display_data"
    }
   ],
   "source": [
    "# Identificación de variables más influyentes (para Random Forest)\n",
    "feature_importances = pd.Series(models['Random Forest'].feature_importances_, index=X.columns)\n",
    "feature_importances.nlargest(10).plot(kind='barh')\n",
    "plt.title('Importancia de Variables en Random Forest')\n",
    "plt.show()"
   ]
  },
  {
   "cell_type": "code",
   "execution_count": 14,
   "metadata": {},
   "outputs": [
    {
     "data": {
      "text/plain": [
       "['modelo_random_forest.pkl']"
      ]
     },
     "execution_count": 14,
     "metadata": {},
     "output_type": "execute_result"
    }
   ],
   "source": [
    "# Guardar el modelo Random Forest entrenado\n",
    "best_model = models['Random Forest']\n",
    "joblib.dump(best_model, 'modelo_random_forest.pkl')"
   ]
  },
  {
   "cell_type": "code",
   "execution_count": 15,
   "metadata": {},
   "outputs": [],
   "source": [
    "# Aplicar el modelo guardado a la base de datos de actuales para predecir probabilidades\n",
    "def predecir_abandono(nueva_base_path):\n",
    "    nueva_base = pd.read_excel(nueva_base_path)\n",
    "    ids = nueva_base['id']\n",
    "    categorical_vars_new = nueva_base.select_dtypes(include=['object']).columns\n",
    "    nueva_base = pd.get_dummies(nueva_base, columns=categorical_vars_new, drop_first=True)\n",
    "    nueva_base = nueva_base.reindex(columns=X.columns, fill_value=0)\n",
    "    nueva_base_scaled = scaler.transform(nueva_base)\n",
    "    modelo_cargado = joblib.load('modelo_random_forest.pkl')\n",
    "    predicciones_proba = modelo_cargado.predict_proba(nueva_base_scaled)[:, 1]\n",
    "    resultados = pd.DataFrame({'id': ids, 'probabilidad_abandono': predicciones_proba})\n",
    "    top_10_abandono = resultados.sort_values(by='probabilidad_abandono', ascending=False).head(10)\n",
    "    print(\"Top 10 empleados con mayor probabilidad de abandonar la empresa:\")\n",
    "    print(top_10_abandono[['id', 'probabilidad_abandono']])\n"
   ]
  },
  {
   "cell_type": "code",
   "execution_count": 16,
   "metadata": {},
   "outputs": [
    {
     "name": "stdout",
     "output_type": "stream",
     "text": [
      "Top 10 empleados con mayor probabilidad de abandonar la empresa:\n",
      "       id  probabilidad_abandono\n",
      "128  2021                   0.78\n",
      "23   1783                   0.75\n",
      "127   749                   0.70\n",
      "162  1108                   0.66\n",
      "150  1055                   0.63\n",
      "46    201                   0.62\n",
      "146  1495                   0.57\n",
      "94   1844                   0.57\n",
      "20     22                   0.55\n",
      "177  1012                   0.54\n"
     ]
    }
   ],
   "source": [
    "ruta = \"../files/Data_empleados_actuales_.xlsx\"\n",
    "predecir_abandono(ruta)"
   ]
  }
 ],
 "metadata": {
  "kernelspec": {
   "display_name": ".venv",
   "language": "python",
   "name": "python3"
  },
  "language_info": {
   "codemirror_mode": {
    "name": "ipython",
    "version": 3
   },
   "file_extension": ".py",
   "mimetype": "text/x-python",
   "name": "python",
   "nbconvert_exporter": "python",
   "pygments_lexer": "ipython3",
   "version": "3.10.5"
  }
 },
 "nbformat": 4,
 "nbformat_minor": 2
}
